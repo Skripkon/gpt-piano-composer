{
 "cells": [
  {
   "cell_type": "markdown",
   "metadata": {},
   "source": [
    "## How to generate piano music with ChatGPT 3.5"
   ]
  },
  {
   "cell_type": "code",
   "execution_count": 1,
   "metadata": {},
   "outputs": [],
   "source": [
    "from music21 import stream, note, chord"
   ]
  },
  {
   "cell_type": "code",
   "execution_count": 2,
   "metadata": {},
   "outputs": [],
   "source": [
    "def parse_notes(file_path):\n",
    "    # Create an empty music stream\n",
    "    music_stream = stream.Stream()\n",
    "\n",
    "    # Open the specified file for reading\n",
    "    with open(file_path, 'r') as file:\n",
    "        # Iterate through each line in the file\n",
    "        for line in file:\n",
    "            # Split the line into individual values\n",
    "            values = line.strip().split()\n",
    "\n",
    "            # Extract offset, quarterlength, and notes data\n",
    "            offset = float(values[0])\n",
    "            quarterlength = float(values[1])\n",
    "            notes_data = values[2:]\n",
    "\n",
    "            # Replace low sounds (0, 1, 2) with higher (3, 4)\n",
    "            for i in range(len(notes_data)):\n",
    "                notes_data[i] = notes_data[i].replace('0', '3').replace('1', '4').replace('2', '3')\n",
    "\n",
    "            # Create Note objects for each note in the chord\n",
    "            chord_notes = [note.Note(note_name) for note_name in notes_data]\n",
    "\n",
    "            # Create a Chord object with the collected notes and quarterlength\n",
    "            # Adding 1.5 to quarterlength for sounds overlapping\n",
    "            chord_obj = chord.Chord(chord_notes, quarterlength=quarterlength + 1.5)\n",
    "\n",
    "            # Insert the chord into the music stream at the specified offset\n",
    "            music_stream.insert(offset, chord_obj)\n",
    "\n",
    "    # Return the populated music stream\n",
    "    return music_stream"
   ]
  },
  {
   "cell_type": "code",
   "execution_count": 3,
   "metadata": {},
   "outputs": [],
   "source": [
    "parsed_stream = parse_notes(file_path=\"notes.txt\")"
   ]
  },
  {
   "cell_type": "code",
   "execution_count": 4,
   "metadata": {},
   "outputs": [
    {
     "data": {
      "text/plain": [
       "'gpt.midi'"
      ]
     },
     "execution_count": 4,
     "metadata": {},
     "output_type": "execute_result"
    }
   ],
   "source": [
    "parsed_stream.write('mid', 'gpt.midi')"
   ]
  }
 ],
 "metadata": {
  "kernelspec": {
   "display_name": "Python 3",
   "language": "python",
   "name": "python3"
  },
  "language_info": {
   "codemirror_mode": {
    "name": "ipython",
    "version": 3
   },
   "file_extension": ".py",
   "mimetype": "text/x-python",
   "name": "python",
   "nbconvert_exporter": "python",
   "pygments_lexer": "ipython3",
   "version": "3.11.6"
  }
 },
 "nbformat": 4,
 "nbformat_minor": 2
}
